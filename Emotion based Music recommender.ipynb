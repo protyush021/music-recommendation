{
 "cells": [
  {
   "cell_type": "code",
   "execution_count": 6,
   "metadata": {
    "id": "Y07rX5qojyDG"
   },
   "outputs": [],
   "source": [
    "import pandas as pd"
   ]
  },
  {
   "cell_type": "code",
   "execution_count": null,
   "metadata": {
    "id": "Zv-d_MCYj_HD"
   },
   "outputs": [],
   "source": [
    "\n"
   ]
  },
  {
   "cell_type": "code",
   "execution_count": 12,
   "metadata": {
    "id": "_QE5-Z9VK_on"
   },
   "outputs": [
    {
     "ename": "NameError",
     "evalue": "name 'data' is not defined",
     "output_type": "error",
     "traceback": [
      "\u001b[0;31m---------------------------------------------------------------------------\u001b[0m",
      "\u001b[0;31mNameError\u001b[0m                                 Traceback (most recent call last)",
      "Cell \u001b[0;32mIn[12], line 1\u001b[0m\n\u001b[0;32m----> 1\u001b[0m name\u001b[38;5;241m=\u001b[39mdata[\u001b[38;5;124m'\u001b[39m\u001b[38;5;124mname\u001b[39m\u001b[38;5;124m'\u001b[39m]\n",
      "\u001b[0;31mNameError\u001b[0m: name 'data' is not defined"
     ]
    }
   ],
   "source": [
    "name=data['name']"
   ]
  },
  {
   "cell_type": "code",
   "execution_count": null,
   "metadata": {
    "id": "1_KHyoq0kQ7i"
   },
   "outputs": [],
   "source": [
    "from sklearn.cluster import KMeans\n",
    "from sklearn.preprocessing import MinMaxScaler"
   ]
  },
  {
   "cell_type": "code",
   "execution_count": null,
   "metadata": {
    "id": "Im9wkNs7kXfJ"
   },
   "outputs": [],
   "source": [
    "col_features = ['danceability', 'energy', 'valence', 'loudness']\n",
    "X = MinMaxScaler().fit_transform(data[col_features])\n",
    "kmeans = KMeans(init=\"k-means++\",\n",
    "                n_clusters=2,\n",
    "                random_state=15).fit(X)\n",
    "data['kmeans'] = kmeans.labels_"
   ]
  },
  {
   "cell_type": "code",
   "execution_count": null,
   "metadata": {
    "id": "JQAXWkX_KvTE"
   },
   "outputs": [],
   "source": [
    "data['song_name']=name"
   ]
  },
  {
   "cell_type": "code",
   "execution_count": null,
   "metadata": {
    "colab": {
     "base_uri": "https://localhost:8080/",
     "height": 623
    },
    "id": "acbgUfzDQIgp",
    "outputId": "21faa441-20a3-4895-f45c-1a96daa8e1cc"
   },
   "outputs": [],
   "source": [
    "data"
   ]
  },
  {
   "cell_type": "code",
   "execution_count": null,
   "metadata": {
    "id": "iTRkAs8AkdzD"
   },
   "outputs": [],
   "source": [
    "cluster=data.groupby(by=data['kmeans'])"
   ]
  },
  {
   "cell_type": "code",
   "execution_count": null,
   "metadata": {
    "id": "aPYcUVwvnFwM"
   },
   "outputs": [],
   "source": [
    "y=data.pop('kmeans')\n",
    "x=data.drop(columns=['name','artists','id','release_date','song_name'])\n"
   ]
  },
  {
   "cell_type": "code",
   "execution_count": null,
   "metadata": {
    "id": "9O1CvTVyl_8o"
   },
   "outputs": [],
   "source": [
    "from sklearn.model_selection import train_test_split\n",
    "x_train,x_test,y_train,y_test=train_test_split(x,y,test_size=0.25)"
   ]
  },
  {
   "cell_type": "code",
   "execution_count": null,
   "metadata": {
    "id": "p0K6y_lFnnAS"
   },
   "outputs": [],
   "source": [
    "!pip install lightgbm\n",
    "from lightgbm import LGBMClassifier\n",
    "model=LGBMClassifier().fit(x_train,y_train)"
   ]
  },
  {
   "cell_type": "code",
   "execution_count": null,
   "metadata": {
    "colab": {
     "base_uri": "https://localhost:8080/",
     "height": 34
    },
    "id": "ts-rUhg8-x0k",
    "outputId": "08a68c81-33b4-4c20-dc93-d56ed86c6faa"
   },
   "outputs": [],
   "source": [
    "model.score(x_train,y_train)"
   ]
  },
  {
   "cell_type": "code",
   "execution_count": null,
   "metadata": {
    "colab": {
     "base_uri": "https://localhost:8080/",
     "height": 34
    },
    "id": "MpK87nMyno9R",
    "outputId": "918df003-d461-4a9d-8ac5-2dde4ce3f1ab"
   },
   "outputs": [],
   "source": [
    "model.score(x_test,y_test)"
   ]
  },
  {
   "cell_type": "code",
   "execution_count": null,
   "metadata": {
    "colab": {
     "base_uri": "https://localhost:8080/",
     "height": 893
    },
    "id": "hJB3xuwWocSY",
    "outputId": "fee22fa3-fa28-4a03-d6f3-f887db02c2a2"
   },
   "outputs": [],
   "source": [
    "import lightgbm\n",
    "import matplotlib.pyplot as plt\n",
    "ax = lightgbm.plot_importance(model, max_num_features=10, figsize=(15,15))\n",
    "plt.show()"
   ]
  },
  {
   "cell_type": "code",
   "execution_count": null,
   "metadata": {
    "id": "1y0iZzU3HfnR"
   },
   "outputs": [],
   "source": [
    "df=cluster.apply(lambda x: x.sort_values([\"popularity\"],ascending=False))\n",
    "df.reset_index(level=0, inplace=True)"
   ]
  },
  {
   "cell_type": "code",
   "execution_count": null,
   "metadata": {
    "colab": {
     "base_uri": "https://localhost:8080/",
     "height": 229
    },
    "id": "NNBzwoH3t6Q8",
    "outputId": "b2b58f9c-0108-4c60-bd49-5a95db121a00"
   },
   "outputs": [],
   "source": [
    "from keras.preprocessing.image import img_to_array\n",
    "import imutils\n",
    "from keras.models import load_model\n",
    "import numpy as np\n",
    "import cv2"
   ]
  },
  {
   "cell_type": "code",
   "execution_count": null,
   "metadata": {},
   "outputs": [],
   "source": [
    "detection_model_path = 'haarcascade_frontalface_default.xml'\n",
    "emotion_model_path = 'final_model3.h5'\n",
    "face_detection = cv2.CascadeClassifier(detection_model_path)\n",
    "emotion_classifier = load_model(emotion_model_path, compile=False)\n",
    "EMOTIONS = [\"happy\",\"sad\"]"
   ]
  },
  {
   "cell_type": "code",
   "execution_count": null,
   "metadata": {},
   "outputs": [],
   "source": [
    "from keras.preprocessing import image\n",
    "def emotion_testing():\n",
    "        cap=cv2.VideoCapture(0)\n",
    "        while True:\n",
    "            ret,test_img=cap.read()# captures frame and returns boolean value and captured image\n",
    "            if not ret:\n",
    "                continue\n",
    "            gray_img= cv2.cvtColor(test_img, cv2.COLOR_BGR2GRAY)\n",
    "\n",
    "            faces_detected = face_detection.detectMultiScale(gray_img, 1.32, 5)\n",
    "\n",
    "\n",
    "            for (x,y,w,h) in faces_detected:\n",
    "                cv2.rectangle(test_img,(x,y),(x+w,y+h),(255,0,0),thickness=7)\n",
    "                roi_gray=gray_img[y:y+w,x:x+h]#cropping region of interest i.e. face area from  image\n",
    "                roi_gray=cv2.resize(roi_gray,(48,48))\n",
    "                img_pixels = image.img_to_array(roi_gray)\n",
    "                img_pixels = np.expand_dims(img_pixels, axis = 0)\n",
    "                img_pixels /= 255\n",
    "\n",
    "                predictions = emotion_classifier.predict(img_pixels)\n",
    "\n",
    "                #find max indexed array\n",
    "                max_index = np.argmax(predictions[0])\n",
    "                predicted_emotion = EMOTIONS[max_index]\n",
    "\n",
    "                cv2.putText(test_img, predicted_emotion, (int(x), int(y)), cv2.FONT_HERSHEY_SIMPLEX, 1, (0,0,255), 2)\n",
    "\n",
    "            resized_img = cv2.resize(test_img, (1000, 700))\n",
    "            cv2.imshow('Facial emotion analysis ',resized_img)\n",
    "\n",
    "\n",
    "\n",
    "            if cv2.waitKey(0) & 0xFF == ord('q'):\n",
    "                     break\n",
    "        cap.release()\n",
    "        cv2.destroyAllWindows\n",
    "        return predicted_emotion"
   ]
  },
  {
   "cell_type": "code",
   "execution_count": null,
   "metadata": {},
   "outputs": [],
   "source": [
    "emotion_word=emotion_testing()\n",
    "if emotion_word=='sad':\n",
    "    emotion_code=0\n",
    "else:\n",
    "    emotion_code=1"
   ]
  },
  {
   "cell_type": "code",
   "execution_count": null,
   "metadata": {
    "id": "QHyMLtLnHsiD"
   },
   "outputs": [],
   "source": [
    "def get_results(emotion_code):\n",
    "  NUM_RECOMMEND=10\n",
    "  happy_set=[]\n",
    "  sad_set=[]\n",
    "  if emotion_code==0:\n",
    "      happy_set.append(df[df['kmeans']==0]['song_name'].head(NUM_RECOMMEND))\n",
    "      return pd.DataFrame(happy_set).T\n",
    "  else:\n",
    "      sad_set.append(df[df['kmeans']==1]['song_name'].head(NUM_RECOMMEND))\n",
    "      return pd.DataFrame(sad_set).T"
   ]
  },
  {
   "cell_type": "code",
   "execution_count": null,
   "metadata": {},
   "outputs": [],
   "source": [
    "print(get_results(emotion_code))\n",
    "if emotion_word=='sad':\n",
    "    print('emotion detected is SAD')\n",
    "else:\n",
    "    print('emotion detected is HAPPY')"
   ]
  },
  {
   "cell_type": "code",
   "execution_count": null,
   "metadata": {
    "colab": {
     "base_uri": "https://localhost:8080/",
     "height": 343
    },
    "id": "TJ8QZCIrUC7g",
    "outputId": "75533041-2e43-482c-f3ab-208b69f42114"
   },
   "outputs": [],
   "source": []
  },
  {
   "cell_type": "code",
   "execution_count": null,
   "metadata": {
    "id": "QoXSslE8uyZY"
   },
   "outputs": [],
   "source": []
  },
  {
   "cell_type": "code",
   "execution_count": null,
   "metadata": {
    "id": "fRGBvyckzL63"
   },
   "outputs": [],
   "source": []
  },
  {
   "cell_type": "code",
   "execution_count": null,
   "metadata": {},
   "outputs": [],
   "source": []
  },
  {
   "cell_type": "code",
   "execution_count": null,
   "metadata": {},
   "outputs": [],
   "source": []
  }
 ],
 "metadata": {
  "colab": {
   "collapsed_sections": [],
   "name": "music1.ipynb",
   "provenance": []
  },
  "kernelspec": {
   "display_name": "Python 3 (ipykernel)",
   "language": "python",
   "name": "python3"
  },
  "language_info": {
   "codemirror_mode": {
    "name": "ipython",
    "version": 3
   },
   "file_extension": ".py",
   "mimetype": "text/x-python",
   "name": "python",
   "nbconvert_exporter": "python",
   "pygments_lexer": "ipython3",
   "version": "3.11.7"
  }
 },
 "nbformat": 4,
 "nbformat_minor": 4
}
